{
  "nbformat": 4,
  "nbformat_minor": 0,
  "metadata": {
    "colab": {
      "provenance": [],
      "authorship_tag": "ABX9TyMg+PU1lLGKZyI2aPRe7qKi",
      "include_colab_link": true
    },
    "kernelspec": {
      "name": "python3",
      "display_name": "Python 3"
    },
    "language_info": {
      "name": "python"
    }
  },
  "cells": [
    {
      "cell_type": "markdown",
      "metadata": {
        "id": "view-in-github",
        "colab_type": "text"
      },
      "source": [
        "<a href=\"https://colab.research.google.com/github/Saumya-gupta7/saumyagupta-demo/blob/main/chatbot.ipynb\" target=\"_parent\"><img src=\"https://colab.research.google.com/assets/colab-badge.svg\" alt=\"Open In Colab\"/></a>"
      ]
    },
    {
      "cell_type": "code",
      "source": [
        "import random\n",
        "import datetime\n",
        "import math\n",
        "\n",
        "class SmartChatbot:\n",
        "    def __init__(self):\n",
        "        self.name = \"AIBuddy\"\n",
        "        self.commands = {\n",
        "            \"hello\": self.greet,\n",
        "            \"time\": self.get_time,\n",
        "            \"date\": self.get_date,\n",
        "            \"calculate\": self.calculate,\n",
        "            \"joke\": self.tell_joke,\n",
        "            \"help\": self.show_help\n",
        "        }\n",
        "        self.jokes = [\n",
        "            \"Why do programmers prefer dark mode? Because light attracts bugs!\",\n",
        "            \"What do you call a fake noodle? An impasta!\",\n",
        "            \"Why did the math book look so sad? Because it had too many problems.\",\n",
        "            \"I told my computer I needed a break, and now it won't stop sending Kit-Kat ads.\"\n",
        "        ]\n",
        "\n",
        "    def greet(self):\n",
        "        greetings = [\n",
        "            f\"Hi there! I'm {self.name}. How can I help you today?\",\n",
        "            f\"Hello! {self.name} at your service!\",\n",
        "            \"Greetings! Ready to chat?\"\n",
        "        ]\n",
        "        return random.choice(greetings)\n",
        "\n",
        "    def get_time(self):\n",
        "        return f\"The current time is {datetime.datetime.now().strftime('%I:%M %p')}\"\n",
        "\n",
        "    def get_date(self):\n",
        "        return f\"Today is {datetime.datetime.now().strftime('%B %d, %Y')}\"\n",
        "\n",
        "    def calculate(self, expression):\n",
        "        try:\n",
        "            result = eval(expression)\n",
        "            return f\"The result is: {result}\"\n",
        "        except:\n",
        "            return \"Sorry, I couldn't calculate that. Please check your expression.\"\n",
        "\n",
        "    def tell_joke(self):\n",
        "        return random.choice(self.jokes)\n",
        "\n",
        "    def show_help(self):\n",
        "        return \"\"\"Available commands:\n",
        "- hello: Get a greeting\n",
        "- time: Show current time\n",
        "- date: Show today's date\n",
        "- calculate [math expression]: Do math calculations\n",
        "- joke: Tell a random joke\n",
        "- help: Show this help menu\"\"\"\n",
        "\n",
        "    def process_input(self, user_input):\n",
        "        # Convert input to lowercase and split\n",
        "        parts = user_input.lower().split()\n",
        "\n",
        "        if not parts:\n",
        "            return \"I didn't catch that. Can you say something?\"\n",
        "\n",
        "        command = parts[0]\n",
        "\n",
        "        # Check for specific commands\n",
        "        if command in self.commands:\n",
        "            if command == \"calculate\":\n",
        "                # Special handling for calculation\n",
        "                if len(parts) > 1:\n",
        "                    expression = \" \".join(parts[1:])\n",
        "                    return self.commands[command](expression)\n",
        "                else:\n",
        "                    return \"Please provide a calculation, like: calculate 5 + 3\"\n",
        "            else:\n",
        "                return self.commands[command]()\n",
        "\n",
        "        # Default response for unknown input\n",
        "        return f\"Sorry, I don't understand '{user_input}'. Type 'help' for available commands.\"\n",
        "\n",
        "def run_chatbot():\n",
        "    chatbot = SmartChatbot()\n",
        "    print(f\"{chatbot.name}: Hello! I'm ready to chat. Type 'help' to see what I can do.\")\n",
        "\n",
        "    while True:\n",
        "        user_input = input(\"You: \")\n",
        "\n",
        "        # Exit condition\n",
        "        if user_input.lower() in ['bye', 'exit', 'quit']:\n",
        "            print(f\"{chatbot.name}: Goodbye! Have a great day!\")\n",
        "            break\n",
        "\n",
        "        # Process and respond to input\n",
        "        response = chatbot.process_input(user_input)\n",
        "        print(f\"{chatbot.name}: {response}\")\n",
        "\n",
        "# Run the chatbot\n",
        "if __name__ == \"__main__\":\n",
        "    run_chatbot()"
      ],
      "metadata": {
        "colab": {
          "base_uri": "https://localhost:8080/"
        },
        "id": "c0kE-94hPczv",
        "outputId": "7b42e4be-757a-44e5-ebc6-a92941d60dc7"
      },
      "execution_count": null,
      "outputs": [
        {
          "metadata": {
            "tags": null
          },
          "name": "stdout",
          "output_type": "stream",
          "text": [
            "AIBuddy: Hello! I'm ready to chat. Type 'help' to see what I can do.\n",
            "AIBuddy: Hi there! I'm AIBuddy. How can I help you today?\n",
            "AIBuddy: Sorry, I don't understand 'can  u tell me today's weather'. Type 'help' for available commands.\n",
            "AIBuddy: Available commands:\n",
            "- hello: Get a greeting\n",
            "- time: Show current time\n",
            "- date: Show today's date\n",
            "- calculate [math expression]: Do math calculations\n",
            "- joke: Tell a random joke\n",
            "- help: Show this help menu\n",
            "AIBuddy: The current time is 12:18 PM\n",
            "AIBuddy: I told my computer I needed a break, and now it won't stop sending Kit-Kat ads.\n",
            "AIBuddy: Why do programmers prefer dark mode? Because light attracts bugs!\n"
          ]
        }
      ]
    }
  ]
}